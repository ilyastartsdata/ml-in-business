{
 "cells": [
  {
   "cell_type": "markdown",
   "metadata": {},
   "source": [
    "## Домашняя работа. Uplift-моделирование"
   ]
  },
  {
   "cell_type": "markdown",
   "metadata": {},
   "source": [
    "### Задания"
   ]
  },
  {
   "cell_type": "markdown",
   "metadata": {},
   "source": [
    "1. Скачать набор данных маркетинговых кампаний отсюда https://www.kaggle.com/davinwijaya/customer-retention \\\n",
    "\n",
    "2. Там поле `conversion` - это целевая переменная, а `offer` - коммуникация. Переименовать поля (`conversion` -> `target`, `offer` -> `treatment`) и привести поле `treatment` к бинарному виду (1 или 0, т.е было какое-то предложение или нет) - значение No Offer означает отсутствие коммуникации, а все остальные - наличие.\n",
    "\n",
    "3. Cделать разбиение набора данных не тренировочную и тестовую выборки\n",
    "\n",
    "4. Cделать feature engineering на ваше усмотрение (допускается свобода выбора методов)\n",
    "\n",
    "5. Провести uplift-моделирование 3 способами: одна модель с признаком коммуникации (S learner), модель с трансформацией таргета (трансформация классов п. 2. 1) и вариант с двумя независимыми моделями\n",
    "\n",
    "6. В конце вывести единую таблицу сравнения метрик `uplift@10%`, `uplift@20%` этих 3 моделей\n",
    "\n",
    "7. Построить модель `UpliftTreeClassifier` и попытаться описать словами полученное дерево"
   ]
  },
  {
   "cell_type": "markdown",
   "metadata": {},
   "source": [
    "8. (Опционально) для модели S learner (модель с дополнительным признаком коммуникации) построить зависимость таргета (конверсии - поле `conversion`) от значения `uplift`:\n",
    "\n",
    "    - Cделать прогноз и получить `uplift` для тестовой выборки \n",
    "    - Отсортировать тестовую выборку по uplift по убыванию \n",
    "    - Разбить на децили (`pandas qcut` вам в помощь) \n",
    "    - Для каждого дециля посчитать среднюю `conversion`"
   ]
  },
  {
   "cell_type": "markdown",
   "metadata": {},
   "source": [
    "9. (Опционально) построить модель `UpliftRandomForestClassifier` и попытаться описать словами полученное дерево"
   ]
  },
  {
   "cell_type": "markdown",
   "metadata": {},
   "source": [
    "**Ссылки:**\n",
    "- https://towardsdatascience.com/a-quick-uplift-modeling-introduction-6e14de32bfe0\n",
    "- https://habr.com/ru/company/ru_mts/blog/485980/#reference1\n",
    "- https://en.wikipedia.org/wiki/Uplift_modelling\n",
    "- https://www.youtube.com/watch?v=yFQAIJBYXI0\n",
    "- https://www.youtube.com/watch?v=jCUcYiBK03I\n",
    "- https://www.uplift-modeling.com/en/latest/\n",
    "- https://arxiv.org/pdf/1809.04559.pdf\n",
    "- https://catboost.ai/docs/concepts/about.html"
   ]
  },
  {
   "cell_type": "markdown",
   "metadata": {},
   "source": [
    "**Библиотеки и пакеты:**\n",
    "- `causalml`\n",
    "- `sklift`\n",
    "- `catboost`"
   ]
  },
  {
   "cell_type": "markdown",
   "metadata": {},
   "source": [
    "---"
   ]
  },
  {
   "cell_type": "code",
   "execution_count": null,
   "metadata": {},
   "outputs": [],
   "source": [
    "# Загрузка необходимых библиотек\n",
    "\n",
    "import pandas as pd\n",
    "\n",
    "from sklearn.model_selection import train_test_split\n",
    "from sklearn.preprocessing import MinMaxScaler\n",
    "\n",
    "from pprint import pprint\n",
    "\n",
    "from sklift.metrics import uplift_at_k\n",
    "from sklift.viz import plot_uplift_preds\n",
    "from sklift.models import SoloModel\n",
    "from sklift.models import TwoModels\n",
    "from sklift.models import ClassTransformation\n",
    "\n",
    "from catboost import CatBoostClassifier\n",
    "\n",
    "from IPython.display import Image\n",
    "from causalml.inference.tree import UpliftTreeClassifier, UpliftRandomForestClassifier\n",
    "from causalml.inference.tree import uplift_tree_string, uplift_tree_plot"
   ]
  },
  {
   "cell_type": "code",
   "execution_count": null,
   "metadata": {},
   "outputs": [],
   "source": [
    "# Загрузка данных\n",
    "\n",
    "df_customer = pd.read_csv('HW_data.csv')\n",
    "\n",
    "# Проверка\n",
    "\n",
    "df_customer.head(10)"
   ]
  },
  {
   "cell_type": "markdown",
   "metadata": {},
   "source": [
    "---"
   ]
  },
  {
   "cell_type": "code",
   "execution_count": null,
   "metadata": {},
   "outputs": [],
   "source": [
    "# Переименование полей\n",
    "\n",
    "df_customer = df_customer.rename(columns = {'conversion': 'target', 'offer': 'treatment'})\n",
    "\n",
    "# Бинарные значения\n",
    "\n",
    "df_customer['treatment'] = df_customer['treatment'].apply(lambda i : 0 if i == 'No Offer' else 1)"
   ]
  },
  {
   "cell_type": "code",
   "execution_count": null,
   "metadata": {},
   "outputs": [],
   "source": [
    "# Train test split\n",
    "\n",
    "X_train, X_test, y_train, y_test = train_test_split(df_customer.drop('target', axis = 1), df_customer['target'], test_size = 0.33, random_state = 42)"
   ]
  },
  {
   "cell_type": "code",
   "execution_count": null,
   "metadata": {},
   "outputs": [],
   "source": [
    "# One-Hot Encoding (Dummies)\n",
    "\n",
    "X_train = pd.get_dummies(X_train)\n",
    "X_test = pd.get_dummies(X_test)"
   ]
  },
  {
   "cell_type": "code",
   "execution_count": null,
   "metadata": {},
   "outputs": [],
   "source": [
    "# Новые переменные\n",
    "\n",
    "treat_train = X_train['treatment']\n",
    "treat_test = X_test['treatment']\n",
    "\n",
    "models_results = {\n",
    "    'approach': [],\n",
    "    'uplift@10%': [],\n",
    "    'uplift@30%': []\n",
    "}"
   ]
  },
  {
   "cell_type": "code",
   "execution_count": null,
   "metadata": {},
   "outputs": [],
   "source": [
    "%%time\n",
    "\n",
    "# Модель с признаком коммуникации\n",
    "\n",
    "sm = SoloModel(CatBoostClassifier(iterations = 100, thread_count = 2, random_state = 42, silent = True))\n",
    "sm = sm.fit(X_train, y_train, treat_train)\n",
    "\n",
    "uplift_sm = sm.predict(X_test)\n",
    "\n",
    "sm_score_10 = uplift_at_k(y_true = y_test, uplift = uplift_sm, treatment = treat_test, strategy = 'by_group', k = 0.1)\n",
    "sm_score_30 = uplift_at_k(y_true = y_test, uplift = uplift_sm, treatment = treat_test, strategy = 'by_group', k = 0.3)\n",
    "\n",
    "models_results['approach'].append('SoloModel')\n",
    "models_results['uplift@10%'].append(sm_score_10)\n",
    "models_results['uplift@30%'].append(sm_score_30)"
   ]
  },
  {
   "cell_type": "code",
   "execution_count": null,
   "metadata": {},
   "outputs": [],
   "source": [
    "# Вероятность при взаимодействии\n",
    "\n",
    "sm_trmnt_preds = sm.trmnt_preds_\n",
    "\n",
    "# Вероятность без взаимодействия\n",
    "\n",
    "sm_ctrl_preds = sm.ctrl_preds_\n",
    "\n",
    "# Построим графики\n",
    "\n",
    "plot_uplift_preds(trmnt_preds = sm_trmnt_preds, ctrl_preds = sm_ctrl_preds)"
   ]
  },
  {
   "cell_type": "code",
   "execution_count": null,
   "metadata": {},
   "outputs": [],
   "source": [
    "%%time\n",
    "\n",
    "# Модель с трансформацией target\n",
    "\n",
    "ct = ClassTransformation(CatBoostClassifier(iterations = 100, thread_count = 2, random_state = 42, silent = True))\n",
    "ct = ct.fit(X_train, y_train, treat_train)\n",
    "\n",
    "uplift_ct = ct.predict(X_test)\n",
    "\n",
    "ct_score_10 = uplift_at_k(y_true = y_test, uplift = uplift_ct, treatment = treat_test, strategy = 'by_group', k = 0.1)\n",
    "ct_score_30 = uplift_at_k(y_true = y_test, uplift = uplift_ct, treatment = treat_test, strategy = 'by_group', k = 0.3)\n",
    "\n",
    "models_results['approach'].append('ClassTransformation')\n",
    "models_results['uplift@10%'].append(ct_score_10)\n",
    "models_results['uplift@30%'].append(ct_score_30)"
   ]
  },
  {
   "cell_type": "code",
   "execution_count": null,
   "metadata": {},
   "outputs": [],
   "source": [
    "%%time\n",
    "\n",
    "# Две независимые модели\n",
    "\n",
    "tm = TwoModels(\n",
    "    estimator_trmnt = CatBoostClassifier(iterations = 100, thread_count = 2, random_state = 42, silent = True), \n",
    "    estimator_ctrl = CatBoostClassifier(iterations = 100, thread_count = 2, random_state = 42, silent = True), \n",
    "    method = 'vanilla')\n",
    "\n",
    "tm = tm.fit(\n",
    "    X_train, y_train, treat_train)\n",
    "\n",
    "uplift_tm = tm.predict(X_test)\n",
    "\n",
    "tm_score_10 = uplift_at_k(y_true = y_test, uplift = uplift_tm, treatment = treat_test, strategy = 'by_group', k = 0.1)\n",
    "tm_score_30 = uplift_at_k(y_true = y_test, uplift = uplift_tm, treatment = treat_test, strategy = 'by_group', k = 0.3)\n",
    "\n",
    "models_results['approach'].append('TwoModels')\n",
    "models_results['uplift@10%'].append(tm_score_10)\n",
    "models_results['uplift@30%'].append(tm_score_30)"
   ]
  },
  {
   "cell_type": "code",
   "execution_count": null,
   "metadata": {},
   "outputs": [],
   "source": [
    "# Отобразим результаты в Dataframe\n",
    "\n",
    "df_result = pd.DataFrame(data = models_results).sort_values('uplift@30%', ascending = False).set_index('approach')\n",
    "\n",
    "df_result"
   ]
  },
  {
   "cell_type": "markdown",
   "metadata": {},
   "source": [
    "---"
   ]
  },
  {
   "cell_type": "markdown",
   "metadata": {},
   "source": [
    "### UpliftTreeClassifier"
   ]
  },
  {
   "cell_type": "code",
   "execution_count": null,
   "metadata": {},
   "outputs": [],
   "source": [
    "X_train_tree = X_train.copy()\n",
    "\n",
    "features = [c for c in X_train_tree]"
   ]
  },
  {
   "cell_type": "code",
   "execution_count": null,
   "metadata": {},
   "outputs": [],
   "source": [
    "# Модель\n",
    "\n",
    "uplift_model = UpliftTreeClassifier(max_depth = 4,\n",
    "                                    min_samples_leaf = 200,\n",
    "                                    min_samples_treatment = 50,\n",
    "                                    n_reg = 100,\n",
    "                                    evaluationFunction = 'KL',\n",
    "                                    control_name = 'control')\n",
    "\n",
    "uplift_model.fit(X_train_tree.values,\n",
    "                 treatment = treat_train.map({\n",
    "                     1: 'treatment1',\n",
    "                     0: 'control'\n",
    "                 }).values,\n",
    "                 y = y_train)\n",
    "\n",
    "graph = uplift_tree_plot(uplift_model.fitted_uplift_tree, features)\n",
    "Image(graph.create_png())"
   ]
  }
 ],
 "metadata": {
  "kernelspec": {
   "display_name": "Python 3",
   "language": "python",
   "name": "python3"
  },
  "language_info": {
   "codemirror_mode": {
    "name": "ipython",
    "version": 3
   },
   "file_extension": ".py",
   "mimetype": "text/x-python",
   "name": "python",
   "nbconvert_exporter": "python",
   "pygments_lexer": "ipython3",
   "version": "3.7.4"
  }
 },
 "nbformat": 4,
 "nbformat_minor": 4
}
