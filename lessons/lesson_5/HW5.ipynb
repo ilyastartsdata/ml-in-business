{
 "cells": [
  {
   "cell_type": "markdown",
   "id": "e7ca855c",
   "metadata": {},
   "source": [
    "## Домашняя работа к уроку 5"
   ]
  },
  {
   "cell_type": "markdown",
   "id": "d16d7eb5",
   "metadata": {},
   "source": [
    "### Задача оттока: варианты постановки, возможные способы решения"
   ]
  },
  {
   "cell_type": "markdown",
   "id": "05a6c511",
   "metadata": {},
   "source": [
    "**Домашнее задание**"
   ]
  },
  {
   "cell_type": "markdown",
   "id": "db3a4559",
   "metadata": {},
   "source": [
    "1. Для нашего пайплайна (``Case1``) поэкспериментировать с разными моделями: 1 - бустинг, 2 - логистическая регрессия (не забудьте здесь добавить в cont_transformer стандартизацию - нормирование вещественных признаков)\n",
    "2. Отобрать лучшую модель по метрикам (кстати, какая по вашему мнению здесь наиболее подходящая DS-метрика)\n",
    "3. Для отобранной модели (на отложенной выборке) сделать оценку экономической эффективности при тех же вводных, как в вопросе 2 (1 доллар на привлечение, 2 доллара - с каждого правильно классифицированного (``True Positive``) удержанного). (подсказка) нужно посчитать ``FP/TP/FN/TN`` для выбранного оптимального порога вероятности и посчитать выручку и траты.\n",
    "4. (Опционально) Провести подбор гиперпараметров лучшей модели по итогам 2-3\n",
    "5. (Опционально) Еще раз провести оценку экономической эффективности"
   ]
  },
  {
   "cell_type": "markdown",
   "id": "1f88eaf6",
   "metadata": {},
   "source": [
    "**Ссылки**"
   ]
  },
  {
   "cell_type": "markdown",
   "id": "55653c2b",
   "metadata": {},
   "source": [
    "- http://hyperopt.github.io/hyperopt/\n",
    "- https://arxiv.org/pdf/1907.03947.pdf\n",
    "- https://arxiv.org/pdf/1802.02301.pdf\n",
    "- https://arxiv.org/list/stat.ML/recent\n",
    "- https://scikit-learn.org/stable/modules/grid_search.html\n",
    "- https://scikit-learn.org/stable/modules/compose.html"
   ]
  },
  {
   "cell_type": "markdown",
   "id": "e4c130ac",
   "metadata": {},
   "source": [
    "---"
   ]
  },
  {
   "cell_type": "code",
   "execution_count": 1,
   "id": "f086a0f4",
   "metadata": {},
   "outputs": [],
   "source": [
    "# Загрузка необходимых библиотек\n",
    "\n",
    "import pandas as pd\n",
    "import numpy as np\n",
    "\n",
    "from sklearn.pipeline import Pipeline, make_pipeline\n",
    "from sklearn.pipeline import FeatureUnion\n",
    "from sklearn.preprocessing import StandardScaler, MinMaxScaler\n",
    "from sklearn.base import BaseEstimator, TransformerMixin\n",
    "from sklearn.linear_model import LogisticRegression\n",
    "from sklearn.model_selection import train_test_split\n",
    "from sklearn.ensemble import RandomForestClassifier\n",
    "from sklearn.ensemble import GradientBoostingClassifier\n",
    "from sklearn.metrics import precision_recall_curve, confusion_matrix, roc_auc_score, precision_recall_curve\n",
    "from sklearn.model_selection import train_test_split, GridSearchCV\n",
    "\n",
    "import itertools\n",
    "\n",
    "import matplotlib.pyplot as plt\n",
    "\n",
    "%matplotlib inline"
   ]
  },
  {
   "cell_type": "code",
   "execution_count": 2,
   "id": "61ed55a2",
   "metadata": {},
   "outputs": [
    {
     "data": {
      "text/html": [
       "<div>\n",
       "<style scoped>\n",
       "    .dataframe tbody tr th:only-of-type {\n",
       "        vertical-align: middle;\n",
       "    }\n",
       "\n",
       "    .dataframe tbody tr th {\n",
       "        vertical-align: top;\n",
       "    }\n",
       "\n",
       "    .dataframe thead th {\n",
       "        text-align: right;\n",
       "    }\n",
       "</style>\n",
       "<table border=\"1\" class=\"dataframe\">\n",
       "  <thead>\n",
       "    <tr style=\"text-align: right;\">\n",
       "      <th></th>\n",
       "      <th>RowNumber</th>\n",
       "      <th>CustomerId</th>\n",
       "      <th>Surname</th>\n",
       "      <th>CreditScore</th>\n",
       "      <th>Geography</th>\n",
       "      <th>Gender</th>\n",
       "      <th>Age</th>\n",
       "      <th>Tenure</th>\n",
       "      <th>Balance</th>\n",
       "      <th>NumOfProducts</th>\n",
       "      <th>HasCrCard</th>\n",
       "      <th>IsActiveMember</th>\n",
       "      <th>EstimatedSalary</th>\n",
       "      <th>Exited</th>\n",
       "    </tr>\n",
       "  </thead>\n",
       "  <tbody>\n",
       "    <tr>\n",
       "      <th>0</th>\n",
       "      <td>1</td>\n",
       "      <td>15634602</td>\n",
       "      <td>Hargrave</td>\n",
       "      <td>619</td>\n",
       "      <td>France</td>\n",
       "      <td>Female</td>\n",
       "      <td>42</td>\n",
       "      <td>2</td>\n",
       "      <td>0.00</td>\n",
       "      <td>1</td>\n",
       "      <td>1</td>\n",
       "      <td>1</td>\n",
       "      <td>101348.88</td>\n",
       "      <td>1</td>\n",
       "    </tr>\n",
       "    <tr>\n",
       "      <th>1</th>\n",
       "      <td>2</td>\n",
       "      <td>15647311</td>\n",
       "      <td>Hill</td>\n",
       "      <td>608</td>\n",
       "      <td>Spain</td>\n",
       "      <td>Female</td>\n",
       "      <td>41</td>\n",
       "      <td>1</td>\n",
       "      <td>83807.86</td>\n",
       "      <td>1</td>\n",
       "      <td>0</td>\n",
       "      <td>1</td>\n",
       "      <td>112542.58</td>\n",
       "      <td>0</td>\n",
       "    </tr>\n",
       "    <tr>\n",
       "      <th>2</th>\n",
       "      <td>3</td>\n",
       "      <td>15619304</td>\n",
       "      <td>Onio</td>\n",
       "      <td>502</td>\n",
       "      <td>France</td>\n",
       "      <td>Female</td>\n",
       "      <td>42</td>\n",
       "      <td>8</td>\n",
       "      <td>159660.80</td>\n",
       "      <td>3</td>\n",
       "      <td>1</td>\n",
       "      <td>0</td>\n",
       "      <td>113931.57</td>\n",
       "      <td>1</td>\n",
       "    </tr>\n",
       "    <tr>\n",
       "      <th>3</th>\n",
       "      <td>4</td>\n",
       "      <td>15701354</td>\n",
       "      <td>Boni</td>\n",
       "      <td>699</td>\n",
       "      <td>France</td>\n",
       "      <td>Female</td>\n",
       "      <td>39</td>\n",
       "      <td>1</td>\n",
       "      <td>0.00</td>\n",
       "      <td>2</td>\n",
       "      <td>0</td>\n",
       "      <td>0</td>\n",
       "      <td>93826.63</td>\n",
       "      <td>0</td>\n",
       "    </tr>\n",
       "    <tr>\n",
       "      <th>4</th>\n",
       "      <td>5</td>\n",
       "      <td>15737888</td>\n",
       "      <td>Mitchell</td>\n",
       "      <td>850</td>\n",
       "      <td>Spain</td>\n",
       "      <td>Female</td>\n",
       "      <td>43</td>\n",
       "      <td>2</td>\n",
       "      <td>125510.82</td>\n",
       "      <td>1</td>\n",
       "      <td>1</td>\n",
       "      <td>1</td>\n",
       "      <td>79084.10</td>\n",
       "      <td>0</td>\n",
       "    </tr>\n",
       "    <tr>\n",
       "      <th>5</th>\n",
       "      <td>6</td>\n",
       "      <td>15574012</td>\n",
       "      <td>Chu</td>\n",
       "      <td>645</td>\n",
       "      <td>Spain</td>\n",
       "      <td>Male</td>\n",
       "      <td>44</td>\n",
       "      <td>8</td>\n",
       "      <td>113755.78</td>\n",
       "      <td>2</td>\n",
       "      <td>1</td>\n",
       "      <td>0</td>\n",
       "      <td>149756.71</td>\n",
       "      <td>1</td>\n",
       "    </tr>\n",
       "    <tr>\n",
       "      <th>6</th>\n",
       "      <td>7</td>\n",
       "      <td>15592531</td>\n",
       "      <td>Bartlett</td>\n",
       "      <td>822</td>\n",
       "      <td>France</td>\n",
       "      <td>Male</td>\n",
       "      <td>50</td>\n",
       "      <td>7</td>\n",
       "      <td>0.00</td>\n",
       "      <td>2</td>\n",
       "      <td>1</td>\n",
       "      <td>1</td>\n",
       "      <td>10062.80</td>\n",
       "      <td>0</td>\n",
       "    </tr>\n",
       "    <tr>\n",
       "      <th>7</th>\n",
       "      <td>8</td>\n",
       "      <td>15656148</td>\n",
       "      <td>Obinna</td>\n",
       "      <td>376</td>\n",
       "      <td>Germany</td>\n",
       "      <td>Female</td>\n",
       "      <td>29</td>\n",
       "      <td>4</td>\n",
       "      <td>115046.74</td>\n",
       "      <td>4</td>\n",
       "      <td>1</td>\n",
       "      <td>0</td>\n",
       "      <td>119346.88</td>\n",
       "      <td>1</td>\n",
       "    </tr>\n",
       "    <tr>\n",
       "      <th>8</th>\n",
       "      <td>9</td>\n",
       "      <td>15792365</td>\n",
       "      <td>He</td>\n",
       "      <td>501</td>\n",
       "      <td>France</td>\n",
       "      <td>Male</td>\n",
       "      <td>44</td>\n",
       "      <td>4</td>\n",
       "      <td>142051.07</td>\n",
       "      <td>2</td>\n",
       "      <td>0</td>\n",
       "      <td>1</td>\n",
       "      <td>74940.50</td>\n",
       "      <td>0</td>\n",
       "    </tr>\n",
       "    <tr>\n",
       "      <th>9</th>\n",
       "      <td>10</td>\n",
       "      <td>15592389</td>\n",
       "      <td>H?</td>\n",
       "      <td>684</td>\n",
       "      <td>France</td>\n",
       "      <td>Male</td>\n",
       "      <td>27</td>\n",
       "      <td>2</td>\n",
       "      <td>134603.88</td>\n",
       "      <td>1</td>\n",
       "      <td>1</td>\n",
       "      <td>1</td>\n",
       "      <td>71725.73</td>\n",
       "      <td>0</td>\n",
       "    </tr>\n",
       "  </tbody>\n",
       "</table>\n",
       "</div>"
      ],
      "text/plain": [
       "   RowNumber  CustomerId   Surname  CreditScore Geography  Gender  Age  \\\n",
       "0          1    15634602  Hargrave          619    France  Female   42   \n",
       "1          2    15647311      Hill          608     Spain  Female   41   \n",
       "2          3    15619304      Onio          502    France  Female   42   \n",
       "3          4    15701354      Boni          699    France  Female   39   \n",
       "4          5    15737888  Mitchell          850     Spain  Female   43   \n",
       "5          6    15574012       Chu          645     Spain    Male   44   \n",
       "6          7    15592531  Bartlett          822    France    Male   50   \n",
       "7          8    15656148    Obinna          376   Germany  Female   29   \n",
       "8          9    15792365        He          501    France    Male   44   \n",
       "9         10    15592389        H?          684    France    Male   27   \n",
       "\n",
       "   Tenure    Balance  NumOfProducts  HasCrCard  IsActiveMember  \\\n",
       "0       2       0.00              1          1               1   \n",
       "1       1   83807.86              1          0               1   \n",
       "2       8  159660.80              3          1               0   \n",
       "3       1       0.00              2          0               0   \n",
       "4       2  125510.82              1          1               1   \n",
       "5       8  113755.78              2          1               0   \n",
       "6       7       0.00              2          1               1   \n",
       "7       4  115046.74              4          1               0   \n",
       "8       4  142051.07              2          0               1   \n",
       "9       2  134603.88              1          1               1   \n",
       "\n",
       "   EstimatedSalary  Exited  \n",
       "0        101348.88       1  \n",
       "1        112542.58       0  \n",
       "2        113931.57       1  \n",
       "3         93826.63       0  \n",
       "4         79084.10       0  \n",
       "5        149756.71       1  \n",
       "6         10062.80       0  \n",
       "7        119346.88       1  \n",
       "8         74940.50       0  \n",
       "9         71725.73       0  "
      ]
     },
     "execution_count": 2,
     "metadata": {},
     "output_type": "execute_result"
    }
   ],
   "source": [
    "# Загрузка данных\n",
    "\n",
    "df_churn = pd.read_csv('churn_data.csv')\n",
    "\n",
    "# Проверка\n",
    "\n",
    "df_churn.head(10)"
   ]
  },
  {
   "cell_type": "markdown",
   "id": "b1bb134d",
   "metadata": {},
   "source": [
    "---"
   ]
  },
  {
   "cell_type": "markdown",
   "id": "74134830",
   "metadata": {},
   "source": [
    "**1. Для нашего пайплайна (Case1) поэкспериментировать с разными моделями:**"
   ]
  },
  {
   "cell_type": "code",
   "execution_count": 3,
   "id": "1e45d4c1",
   "metadata": {},
   "outputs": [],
   "source": [
    "# Сплит на trin и test\n",
    "\n",
    "X_train, X_test, y_train, y_test = train_test_split(df_churn, df_churn['Exited'], random_state = 42)"
   ]
  },
  {
   "cell_type": "markdown",
   "id": "76edab24",
   "metadata": {},
   "source": [
    "Категории - OneHot;\n",
    "Вещественные - без изменений"
   ]
  },
  {
   "cell_type": "code",
   "execution_count": 4,
   "id": "c4edfbf9",
   "metadata": {},
   "outputs": [],
   "source": [
    "class FeatureSelector(BaseEstimator, TransformerMixin):\n",
    "    \n",
    "    def __init__(self, column):\n",
    "        self.column = column\n",
    "\n",
    "    def fit(self, X, y = None):\n",
    "        return self\n",
    "\n",
    "    def transform(self, X, y = None):\n",
    "        return X[self.column]\n",
    "\n",
    "\n",
    "class NumberSelector(BaseEstimator, TransformerMixin):\n",
    "    \"\"\"\n",
    "    Transformer to select a single column from the data frame to perform additional transformations on\n",
    "    Use on numeric columns in the data\n",
    "    \"\"\"\n",
    "    def __init__(self, key):\n",
    "        self.key = key\n",
    "\n",
    "    def fit(self, X, y = None):\n",
    "        return self\n",
    "\n",
    "    def transform(self, X):\n",
    "        return X[[self.key]]\n",
    "\n",
    "\n",
    "class OHEEncoder(BaseEstimator, TransformerMixin):\n",
    "    \n",
    "    def __init__(self, key):\n",
    "        self.key = key\n",
    "        self.columns = []\n",
    "\n",
    "    def fit(self, X, y = None):\n",
    "        self.columns = [col for col in pd.get_dummies(X, prefix = self.key).columns]\n",
    "        return self\n",
    "\n",
    "    def transform(self, X):\n",
    "        X = pd.get_dummies(X, prefix = self.key)\n",
    "        test_columns = [col for col in X.columns]\n",
    "        for col_ in self.columns:\n",
    "            if col_ not in test_columns:\n",
    "                X[col_] = 0\n",
    "        return X[self.columns]"
   ]
  },
  {
   "cell_type": "code",
   "execution_count": 5,
   "id": "bce5bc94",
   "metadata": {},
   "outputs": [],
   "source": [
    "# Списки признаков\n",
    "\n",
    "categorical = ['Geography', 'Gender', 'Tenure', 'HasCrCard', 'IsActiveMember']\n",
    "continuous = ['CreditScore', 'Age', 'Balance', 'NumOfProducts', 'EstimatedSalary']"
   ]
  },
  {
   "cell_type": "code",
   "execution_count": 6,
   "id": "c1c0d6cc",
   "metadata": {},
   "outputs": [],
   "source": [
    "# Создание трансформера и объединение в список (цикл)\n",
    "\n",
    "transformer = list()\n",
    "\n",
    "for categorical_column in categorical:\n",
    "    \n",
    "    categorical_transformer = Pipeline([('selector', FeatureSelector(column = categorical_column)),\n",
    "                                ('ohe', OHEEncoder(key = categorical_column))])\n",
    "    transformer.append((categorical_column, categorical_transformer))\n",
    "\n",
    "for continuous_column in continuous:\n",
    "    continuous_transformer = Pipeline([('selector', NumberSelector(key = continuous_column)),\n",
    "                                 ('standard', StandardScaler())])\n",
    "    transformer.append((continuous_column, continuous_transformer))"
   ]
  },
  {
   "cell_type": "code",
   "execution_count": 7,
   "id": "82097a73",
   "metadata": {},
   "outputs": [],
   "source": [
    "# Единый пайплайн для признаков для моделирования\n",
    "\n",
    "feats = FeatureUnion(transformer)\n",
    "\n",
    "feature_processing = Pipeline([('feats', feats)])"
   ]
  },
  {
   "cell_type": "code",
   "execution_count": 8,
   "id": "d984adf9",
   "metadata": {},
   "outputs": [
    {
     "data": {
      "text/plain": [
       "array([0.02, 0.01, 0.23, ..., 0.07, 0.16, 0.1 ])"
      ]
     },
     "execution_count": 8,
     "metadata": {},
     "output_type": "execute_result"
    }
   ],
   "source": [
    "# Модель\n",
    "\n",
    "pipeline = Pipeline([('features', feats),\n",
    "                     ('random_forest_classifier',\n",
    "                      RandomForestClassifier(random_state = 42))])\n",
    "\n",
    "pipeline.fit(X_train, y_train)\n",
    "pipeline.predict_proba(X_test)[:, 1]"
   ]
  },
  {
   "cell_type": "code",
   "execution_count": 9,
   "id": "a7b3afe4",
   "metadata": {},
   "outputs": [],
   "source": [
    "# Функция для score\n",
    "\n",
    "def score(model):\n",
    "\n",
    "    pipeline = Pipeline([('features', feats), ('model', model)])\n",
    "    \n",
    "    pipeline.fit(X_train, y_train)\n",
    "\n",
    "    preds = pipeline.predict_proba(X_test)[:, 1]\n",
    "    precision, recall, thresholds = precision_recall_curve(y_test, preds)\n",
    "\n",
    "    fscore = (2 * precision * recall) / (precision + recall)\n",
    "    roc_auc = roc_auc_score(y_true = y_test, y_score = preds)\n",
    "    ix = np.argmax(fscore)\n",
    "\n",
    "    return [round(i, 3) for i in\n",
    "            [thresholds[ix], fscore[ix], precision[ix], recall[ix], roc_auc]]"
   ]
  },
  {
   "cell_type": "markdown",
   "id": "c9ebced6",
   "metadata": {},
   "source": [
    "---"
   ]
  },
  {
   "cell_type": "markdown",
   "id": "98892e7a",
   "metadata": {},
   "source": [
    "**2. Отобрать лучшую модель по метрикам (кстати, какая по вашему мнению здесь наиболее подходящая DS-метрика)**"
   ]
  },
  {
   "cell_type": "code",
   "execution_count": 12,
   "id": "904c817e",
   "metadata": {},
   "outputs": [
    {
     "name": "stdout",
     "output_type": "stream",
     "text": [
      "CPU times: user 1 µs, sys: 0 ns, total: 1 µs\n",
      "Wall time: 3.81 µs\n"
     ]
    },
    {
     "name": "stderr",
     "output_type": "stream",
     "text": [
      "/var/folders/wf/0ws1q6ks6yv_xwm2_24s254h0000gn/T/ipykernel_11766/405119776.py:12: RuntimeWarning: invalid value encountered in true_divide\n",
      "  fscore = (2 * precision * recall) / (precision + recall)\n"
     ]
    }
   ],
   "source": [
    "%time\n",
    "\n",
    "results = pd.DataFrame([\n",
    "    score(model = RandomForestClassifier(random_state = 42)),\n",
    "    score(model = GradientBoostingClassifier(random_state = 42)),\n",
    "    score(model = LogisticRegression(random_state = 42))\n",
    "], columns = ['Best Threshold', 'F-Score', 'Precision', 'Recall', 'ROC AUC score'])\n",
    "\n",
    "results['models'] = ['RandomForestClassifier', 'GradientBoosting', 'LogisticRegression']\n",
    "results = results.set_index('models')"
   ]
  },
  {
   "cell_type": "code",
   "execution_count": 13,
   "id": "f46820d8",
   "metadata": {},
   "outputs": [
    {
     "data": {
      "text/html": [
       "<div>\n",
       "<style scoped>\n",
       "    .dataframe tbody tr th:only-of-type {\n",
       "        vertical-align: middle;\n",
       "    }\n",
       "\n",
       "    .dataframe tbody tr th {\n",
       "        vertical-align: top;\n",
       "    }\n",
       "\n",
       "    .dataframe thead th {\n",
       "        text-align: right;\n",
       "    }\n",
       "</style>\n",
       "<table border=\"1\" class=\"dataframe\">\n",
       "  <thead>\n",
       "    <tr style=\"text-align: right;\">\n",
       "      <th></th>\n",
       "      <th>Best Threshold</th>\n",
       "      <th>F-Score</th>\n",
       "      <th>Precision</th>\n",
       "      <th>Recall</th>\n",
       "      <th>ROC AUC score</th>\n",
       "    </tr>\n",
       "    <tr>\n",
       "      <th>models</th>\n",
       "      <th></th>\n",
       "      <th></th>\n",
       "      <th></th>\n",
       "      <th></th>\n",
       "      <th></th>\n",
       "    </tr>\n",
       "  </thead>\n",
       "  <tbody>\n",
       "    <tr>\n",
       "      <th>GradientBoosting</th>\n",
       "      <td>0.272</td>\n",
       "      <td>0.642</td>\n",
       "      <td>0.602</td>\n",
       "      <td>0.686</td>\n",
       "      <td>0.866</td>\n",
       "    </tr>\n",
       "    <tr>\n",
       "      <th>RandomForestClassifier</th>\n",
       "      <td>0.360</td>\n",
       "      <td>0.619</td>\n",
       "      <td>0.643</td>\n",
       "      <td>0.598</td>\n",
       "      <td>0.854</td>\n",
       "    </tr>\n",
       "    <tr>\n",
       "      <th>LogisticRegression</th>\n",
       "      <td>0.916</td>\n",
       "      <td>NaN</td>\n",
       "      <td>0.000</td>\n",
       "      <td>0.000</td>\n",
       "      <td>0.773</td>\n",
       "    </tr>\n",
       "  </tbody>\n",
       "</table>\n",
       "</div>"
      ],
      "text/plain": [
       "                        Best Threshold  F-Score  Precision  Recall  \\\n",
       "models                                                               \n",
       "GradientBoosting                 0.272    0.642      0.602   0.686   \n",
       "RandomForestClassifier           0.360    0.619      0.643   0.598   \n",
       "LogisticRegression               0.916      NaN      0.000   0.000   \n",
       "\n",
       "                        ROC AUC score  \n",
       "models                                 \n",
       "GradientBoosting                0.866  \n",
       "RandomForestClassifier          0.854  \n",
       "LogisticRegression              0.773  "
      ]
     },
     "execution_count": 13,
     "metadata": {},
     "output_type": "execute_result"
    }
   ],
   "source": [
    "results.sort_values(by = 'Recall', axis = 0, ascending = False)"
   ]
  },
  {
   "cell_type": "markdown",
   "id": "9d50b3ce",
   "metadata": {},
   "source": [
    "**Вывод:** ``Recall`` подходит больше из-за того, что нужно определить максимум выходящих пользователей. Самая подходящая модель - ``RandomForest``"
   ]
  },
  {
   "cell_type": "markdown",
   "id": "f3622fc1",
   "metadata": {},
   "source": [
    "---"
   ]
  },
  {
   "cell_type": "markdown",
   "id": "de15e4ea",
   "metadata": {},
   "source": [
    "**3. Для отобранной модели (на отложенной выборке) сделать оценку экономической эффективности при тех же вводных, как в вопросе 2**"
   ]
  },
  {
   "cell_type": "code",
   "execution_count": 14,
   "id": "3542119e",
   "metadata": {},
   "outputs": [],
   "source": [
    "# Pipeline\n",
    "\n",
    "pipeline = Pipeline([('features', feats),\n",
    "                     ('random_forest_classifier',\n",
    "                      RandomForestClassifier(random_state = 42))])\n",
    "\n",
    "pipeline.fit(X_train, y_train)\n",
    "\n",
    "y_score = pipeline.predict_proba(X_test)[:, 1]\n",
    "\n",
    "precision, recall, thresholds = precision_recall_curve(y_test, y_score)\n",
    "fscore = (2 * precision * recall) / (precision + recall)\n",
    "ix = np.argmax(fscore)"
   ]
  },
  {
   "cell_type": "code",
   "execution_count": 15,
   "id": "378ba805",
   "metadata": {},
   "outputs": [],
   "source": [
    "# Функция для plot matrix\n",
    "\n",
    "def plot_confusion_matrix(cm, classes,\n",
    "                          normalize = False,\n",
    "                          title = 'Confusion matrix',\n",
    "                          cmap = plt.cm.Blues):\n",
    "    \"\"\"\n",
    "    This function prints and plots the confusion matrix.\n",
    "    Normalization can be applied by setting `normalize=True`.\n",
    "    \"\"\"\n",
    "    plt.imshow(cm, interpolation = 'nearest', cmap = cmap)\n",
    "    plt.title(title)\n",
    "    plt.colorbar()\n",
    "    tick_marks = np.arange(len(classes))\n",
    "    plt.xticks(tick_marks, classes, rotation = 45)\n",
    "    plt.yticks(tick_marks, classes)\n",
    "\n",
    "    thresh = cm.max() / 2.\n",
    "    for i, j in itertools.product(range(cm.shape[0]), range(cm.shape[1])):\n",
    "        plt.text(j, i, cm[i, j],\n",
    "                 horizontalalignment = \"center\",\n",
    "                 color = \"white\" if cm[i, j] > thresh else \"black\")\n",
    "\n",
    "    plt.tight_layout()\n",
    "    plt.ylabel('True label')\n",
    "    plt.xlabel('Predicted label')"
   ]
  },
  {
   "cell_type": "code",
   "execution_count": 16,
   "id": "bcf88fe5",
   "metadata": {},
   "outputs": [
    {
     "data": {
      "image/png": "[encoded data removed]",
      "text/plain": [
       "<Figure size 720x720 with 2 Axes>"
      ]
     },
     "metadata": {
      "needs_background": "light"
     },
     "output_type": "display_data"
    }
   ],
   "source": [
    "# Проверка результата\n",
    "\n",
    "font = {'size' : 12}\n",
    "plt.rc('font', **font)\n",
    "\n",
    "cnf_matrix = confusion_matrix(y_test, y_score>thresholds[ix])\n",
    "plt.figure(figsize = (10, 10))\n",
    "plot_confusion_matrix(cnf_matrix, classes = ['Остаток', 'Отток'],\n",
    "                      title = 'Confusion matrix');"
   ]
  },
  {
   "cell_type": "code",
   "execution_count": 17,
   "id": "00f5acf1",
   "metadata": {},
   "outputs": [
    {
     "name": "stdout",
     "output_type": "stream",
     "text": [
      "Возможная прибыть с удержания = 136$\n"
     ]
    }
   ],
   "source": [
    "# Расчет прибыли\n",
    "\n",
    "costs = sum(cnf_matrix[:, 1]) * 1\n",
    "revenue = cnf_matrix[1, 1] * 2\n",
    "\n",
    "print(f'Возможная прибыть с удержания = {revenue - costs}$')"
   ]
  }
 ],
 "metadata": {
  "kernelspec": {
   "display_name": "Python 3 (ipykernel)",
   "language": "python",
   "name": "python3"
  },
  "language_info": {
   "codemirror_mode": {
    "name": "ipython",
    "version": 3
   },
   "file_extension": ".py",
   "mimetype": "text/x-python",
   "name": "python",
   "nbconvert_exporter": "python",
   "pygments_lexer": "ipython3",
   "version": "3.9.7"
  }
 },
 "nbformat": 4,
 "nbformat_minor": 5
}
