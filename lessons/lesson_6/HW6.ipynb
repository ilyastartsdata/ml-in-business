{
 "cells": [
  {
   "cell_type": "markdown",
   "id": "45cf9431",
   "metadata": {},
   "source": [
    "## Домашняя работа к уроку 6"
   ]
  },
  {
   "cell_type": "markdown",
   "id": "acd8c6fc",
   "metadata": {},
   "source": [
    "### Задача look-alike"
   ]
  },
  {
   "cell_type": "markdown",
   "id": "59510585",
   "metadata": {},
   "source": [
    "**Домашнее задание**"
   ]
  },
  {
   "cell_type": "markdown",
   "id": "bc4d9fdc",
   "metadata": {},
   "source": [
    "1. Взять любой набор данных для бинарной классификации (можно скачать один из модельных с https://archive.ics.uci.edu/ml/datasets.php)\n",
    "2. Сделать ```feature engineering```\n",
    "3. Обучить любой классификатор (какой вам нравится)\n",
    "4. Далее разделить ваш набор данных на два множества: P (positives) и U (unlabeled). Причем брать нужно не все положительные (класс 1) примеры, а только лишь часть\n",
    "5. Применить ```random negative sampling``` для построения классификатора в новых условиях\n",
    "6. Сравнить качество с решением из пункта 4 (построить отчет - таблицу метрик)\n",
    "7. Поэкспериментировать с долей P на шаге 5 (как будет меняться качество модели при уменьшении/увеличении размера P)"
   ]
  },
  {
   "cell_type": "markdown",
   "id": "65eb0fb4",
   "metadata": {},
   "source": [
    "Информация о данных:\n",
    "- Industrial Risk: {P,A,N}\n",
    "- Management Risk: {P,A,N}\n",
    "- Financial Flexibility: {P,A,N}\n",
    "- Credibility: {P,A,N}\n",
    "- Competitiveness: {P,A,N}\n",
    "- Operating Risk: {P,A,N}\n",
    "- Class: {B,NB}"
   ]
  },
  {
   "cell_type": "markdown",
   "id": "26f41871",
   "metadata": {},
   "source": [
    "---"
   ]
  },
  {
   "cell_type": "code",
   "execution_count": 2,
   "id": "68ba5085",
   "metadata": {},
   "outputs": [],
   "source": [
    "# Загрузка необходимых библиотек\n",
    "\n",
    "import pandas as pd\n",
    "import numpy as np\n",
    "\n",
    "from sklearn.model_selection import train_test_split\n",
    "from sklearn.neighbors import KNeighborsClassifier\n",
    "from sklearn.metrics import recall_score, precision_score, roc_auc_score, accuracy_score, f1_score"
   ]
  },
  {
   "cell_type": "code",
   "execution_count": 3,
   "id": "25e2740e",
   "metadata": {},
   "outputs": [
    {
     "data": {
      "text/html": [
       "<div>\n",
       "<style scoped>\n",
       "    .dataframe tbody tr th:only-of-type {\n",
       "        vertical-align: middle;\n",
       "    }\n",
       "\n",
       "    .dataframe tbody tr th {\n",
       "        vertical-align: top;\n",
       "    }\n",
       "\n",
       "    .dataframe thead th {\n",
       "        text-align: right;\n",
       "    }\n",
       "</style>\n",
       "<table border=\"1\" class=\"dataframe\">\n",
       "  <thead>\n",
       "    <tr style=\"text-align: right;\">\n",
       "      <th></th>\n",
       "      <th>Industrial Risk</th>\n",
       "      <th>Management Risk</th>\n",
       "      <th>Financial Flexibility</th>\n",
       "      <th>Credibility</th>\n",
       "      <th>Competitiveness</th>\n",
       "      <th>Operating Risk</th>\n",
       "      <th>Class</th>\n",
       "    </tr>\n",
       "  </thead>\n",
       "  <tbody>\n",
       "    <tr>\n",
       "      <th>0</th>\n",
       "      <td>P</td>\n",
       "      <td>P</td>\n",
       "      <td>A</td>\n",
       "      <td>A</td>\n",
       "      <td>A</td>\n",
       "      <td>P</td>\n",
       "      <td>NB</td>\n",
       "    </tr>\n",
       "    <tr>\n",
       "      <th>1</th>\n",
       "      <td>N</td>\n",
       "      <td>N</td>\n",
       "      <td>A</td>\n",
       "      <td>A</td>\n",
       "      <td>A</td>\n",
       "      <td>N</td>\n",
       "      <td>NB</td>\n",
       "    </tr>\n",
       "    <tr>\n",
       "      <th>2</th>\n",
       "      <td>A</td>\n",
       "      <td>A</td>\n",
       "      <td>A</td>\n",
       "      <td>A</td>\n",
       "      <td>A</td>\n",
       "      <td>A</td>\n",
       "      <td>NB</td>\n",
       "    </tr>\n",
       "    <tr>\n",
       "      <th>3</th>\n",
       "      <td>P</td>\n",
       "      <td>P</td>\n",
       "      <td>P</td>\n",
       "      <td>P</td>\n",
       "      <td>P</td>\n",
       "      <td>P</td>\n",
       "      <td>NB</td>\n",
       "    </tr>\n",
       "    <tr>\n",
       "      <th>4</th>\n",
       "      <td>N</td>\n",
       "      <td>N</td>\n",
       "      <td>P</td>\n",
       "      <td>P</td>\n",
       "      <td>P</td>\n",
       "      <td>N</td>\n",
       "      <td>NB</td>\n",
       "    </tr>\n",
       "    <tr>\n",
       "      <th>5</th>\n",
       "      <td>A</td>\n",
       "      <td>A</td>\n",
       "      <td>P</td>\n",
       "      <td>P</td>\n",
       "      <td>P</td>\n",
       "      <td>A</td>\n",
       "      <td>NB</td>\n",
       "    </tr>\n",
       "    <tr>\n",
       "      <th>6</th>\n",
       "      <td>P</td>\n",
       "      <td>P</td>\n",
       "      <td>A</td>\n",
       "      <td>P</td>\n",
       "      <td>P</td>\n",
       "      <td>P</td>\n",
       "      <td>NB</td>\n",
       "    </tr>\n",
       "    <tr>\n",
       "      <th>7</th>\n",
       "      <td>P</td>\n",
       "      <td>P</td>\n",
       "      <td>P</td>\n",
       "      <td>A</td>\n",
       "      <td>A</td>\n",
       "      <td>P</td>\n",
       "      <td>NB</td>\n",
       "    </tr>\n",
       "    <tr>\n",
       "      <th>8</th>\n",
       "      <td>P</td>\n",
       "      <td>P</td>\n",
       "      <td>A</td>\n",
       "      <td>P</td>\n",
       "      <td>A</td>\n",
       "      <td>P</td>\n",
       "      <td>NB</td>\n",
       "    </tr>\n",
       "    <tr>\n",
       "      <th>9</th>\n",
       "      <td>P</td>\n",
       "      <td>P</td>\n",
       "      <td>A</td>\n",
       "      <td>A</td>\n",
       "      <td>P</td>\n",
       "      <td>P</td>\n",
       "      <td>NB</td>\n",
       "    </tr>\n",
       "  </tbody>\n",
       "</table>\n",
       "</div>"
      ],
      "text/plain": [
       "  Industrial Risk Management Risk Financial Flexibility Credibility  \\\n",
       "0               P               P                     A           A   \n",
       "1               N               N                     A           A   \n",
       "2               A               A                     A           A   \n",
       "3               P               P                     P           P   \n",
       "4               N               N                     P           P   \n",
       "5               A               A                     P           P   \n",
       "6               P               P                     A           P   \n",
       "7               P               P                     P           A   \n",
       "8               P               P                     A           P   \n",
       "9               P               P                     A           A   \n",
       "\n",
       "  Competitiveness Operating Risk Class  \n",
       "0               A              P    NB  \n",
       "1               A              N    NB  \n",
       "2               A              A    NB  \n",
       "3               P              P    NB  \n",
       "4               P              N    NB  \n",
       "5               P              A    NB  \n",
       "6               P              P    NB  \n",
       "7               A              P    NB  \n",
       "8               A              P    NB  \n",
       "9               P              P    NB  "
      ]
     },
     "execution_count": 3,
     "metadata": {},
     "output_type": "execute_result"
    }
   ],
   "source": [
    "# Загрузка данных\n",
    "\n",
    "df_bankruptcy = pd.read_csv(\"Qualitative_Bankruptcy.data.txt\", header = None)\n",
    "df_bankruptcy.columns = ['Industrial Risk', 'Management Risk', 'Financial Flexibility', \n",
    "              'Credibility','Competitiveness', 'Operating Risk','Class']\n",
    "\n",
    "# Проверка\n",
    "\n",
    "df_bankruptcy.head(10)"
   ]
  },
  {
   "cell_type": "markdown",
   "id": "81a82ec9",
   "metadata": {},
   "source": [
    "**Анализ данных:** 6 признаков и 1 целевая - Class"
   ]
  },
  {
   "cell_type": "code",
   "execution_count": 9,
   "id": "7c7b931b",
   "metadata": {},
   "outputs": [],
   "source": [
    "# Формула для проверки качества модели\n",
    "\n",
    "def evaluate_results(y_test, y_predict):\n",
    "    \n",
    "    print('Classification results:')\n",
    "    \n",
    "    f1 = f1_score(y_test, y_predict)\n",
    "    print(\"f1: %.2f%%\" % (f1 * 100.0))\n",
    "    \n",
    "    roc = roc_auc_score(y_test, y_predict)\n",
    "    print(\"roc: %.2f%%\" % (roc * 100.0))\n",
    "    \n",
    "    rec = recall_score(y_test, y_predict, average='binary')\n",
    "    print(\"recall: %.2f%%\" % (rec * 100.0))\n",
    "    \n",
    "    prc = precision_score(y_test, y_predict, average='binary')\n",
    "    print(\"precision: %.2f%%\" % (prc * 100.0))\n",
    "    \n",
    "    return [f1,roc,rec,prc]"
   ]
  },
  {
   "cell_type": "markdown",
   "id": "78142beb",
   "metadata": {},
   "source": [
    "---"
   ]
  },
  {
   "cell_type": "markdown",
   "id": "fa96e0f9",
   "metadata": {},
   "source": [
    "**Feature engineering**"
   ]
  },
  {
   "cell_type": "code",
   "execution_count": 5,
   "id": "3b72b0b7",
   "metadata": {},
   "outputs": [
    {
     "data": {
      "text/html": [
       "<div>\n",
       "<style scoped>\n",
       "    .dataframe tbody tr th:only-of-type {\n",
       "        vertical-align: middle;\n",
       "    }\n",
       "\n",
       "    .dataframe tbody tr th {\n",
       "        vertical-align: top;\n",
       "    }\n",
       "\n",
       "    .dataframe thead th {\n",
       "        text-align: right;\n",
       "    }\n",
       "</style>\n",
       "<table border=\"1\" class=\"dataframe\">\n",
       "  <thead>\n",
       "    <tr style=\"text-align: right;\">\n",
       "      <th></th>\n",
       "      <th>Industrial Risk</th>\n",
       "      <th>Management Risk</th>\n",
       "      <th>Financial Flexibility</th>\n",
       "      <th>Credibility</th>\n",
       "      <th>Competitiveness</th>\n",
       "      <th>Operating Risk</th>\n",
       "      <th>F2</th>\n",
       "      <th>F1</th>\n",
       "      <th>Class</th>\n",
       "    </tr>\n",
       "  </thead>\n",
       "  <tbody>\n",
       "    <tr>\n",
       "      <th>0</th>\n",
       "      <td>1</td>\n",
       "      <td>1</td>\n",
       "      <td>0</td>\n",
       "      <td>0</td>\n",
       "      <td>0</td>\n",
       "      <td>1</td>\n",
       "      <td>0</td>\n",
       "      <td>3</td>\n",
       "      <td>1</td>\n",
       "    </tr>\n",
       "    <tr>\n",
       "      <th>1</th>\n",
       "      <td>-1</td>\n",
       "      <td>-1</td>\n",
       "      <td>0</td>\n",
       "      <td>0</td>\n",
       "      <td>0</td>\n",
       "      <td>-1</td>\n",
       "      <td>0</td>\n",
       "      <td>-3</td>\n",
       "      <td>1</td>\n",
       "    </tr>\n",
       "    <tr>\n",
       "      <th>2</th>\n",
       "      <td>0</td>\n",
       "      <td>0</td>\n",
       "      <td>0</td>\n",
       "      <td>0</td>\n",
       "      <td>0</td>\n",
       "      <td>0</td>\n",
       "      <td>0</td>\n",
       "      <td>0</td>\n",
       "      <td>1</td>\n",
       "    </tr>\n",
       "    <tr>\n",
       "      <th>3</th>\n",
       "      <td>1</td>\n",
       "      <td>1</td>\n",
       "      <td>1</td>\n",
       "      <td>1</td>\n",
       "      <td>1</td>\n",
       "      <td>1</td>\n",
       "      <td>2</td>\n",
       "      <td>3</td>\n",
       "      <td>1</td>\n",
       "    </tr>\n",
       "    <tr>\n",
       "      <th>4</th>\n",
       "      <td>-1</td>\n",
       "      <td>-1</td>\n",
       "      <td>1</td>\n",
       "      <td>1</td>\n",
       "      <td>1</td>\n",
       "      <td>-1</td>\n",
       "      <td>2</td>\n",
       "      <td>-3</td>\n",
       "      <td>1</td>\n",
       "    </tr>\n",
       "    <tr>\n",
       "      <th>5</th>\n",
       "      <td>0</td>\n",
       "      <td>0</td>\n",
       "      <td>1</td>\n",
       "      <td>1</td>\n",
       "      <td>1</td>\n",
       "      <td>0</td>\n",
       "      <td>2</td>\n",
       "      <td>0</td>\n",
       "      <td>1</td>\n",
       "    </tr>\n",
       "    <tr>\n",
       "      <th>6</th>\n",
       "      <td>1</td>\n",
       "      <td>1</td>\n",
       "      <td>0</td>\n",
       "      <td>1</td>\n",
       "      <td>1</td>\n",
       "      <td>1</td>\n",
       "      <td>2</td>\n",
       "      <td>3</td>\n",
       "      <td>1</td>\n",
       "    </tr>\n",
       "    <tr>\n",
       "      <th>7</th>\n",
       "      <td>1</td>\n",
       "      <td>1</td>\n",
       "      <td>1</td>\n",
       "      <td>0</td>\n",
       "      <td>0</td>\n",
       "      <td>1</td>\n",
       "      <td>0</td>\n",
       "      <td>3</td>\n",
       "      <td>1</td>\n",
       "    </tr>\n",
       "    <tr>\n",
       "      <th>8</th>\n",
       "      <td>1</td>\n",
       "      <td>1</td>\n",
       "      <td>0</td>\n",
       "      <td>1</td>\n",
       "      <td>0</td>\n",
       "      <td>1</td>\n",
       "      <td>1</td>\n",
       "      <td>3</td>\n",
       "      <td>1</td>\n",
       "    </tr>\n",
       "    <tr>\n",
       "      <th>9</th>\n",
       "      <td>1</td>\n",
       "      <td>1</td>\n",
       "      <td>0</td>\n",
       "      <td>0</td>\n",
       "      <td>1</td>\n",
       "      <td>1</td>\n",
       "      <td>1</td>\n",
       "      <td>3</td>\n",
       "      <td>1</td>\n",
       "    </tr>\n",
       "  </tbody>\n",
       "</table>\n",
       "</div>"
      ],
      "text/plain": [
       "   Industrial Risk  Management Risk  Financial Flexibility  Credibility  \\\n",
       "0                1                1                      0            0   \n",
       "1               -1               -1                      0            0   \n",
       "2                0                0                      0            0   \n",
       "3                1                1                      1            1   \n",
       "4               -1               -1                      1            1   \n",
       "5                0                0                      1            1   \n",
       "6                1                1                      0            1   \n",
       "7                1                1                      1            0   \n",
       "8                1                1                      0            1   \n",
       "9                1                1                      0            0   \n",
       "\n",
       "   Competitiveness  Operating Risk  F2  F1  Class  \n",
       "0                0               1   0   3      1  \n",
       "1                0              -1   0  -3      1  \n",
       "2                0               0   0   0      1  \n",
       "3                1               1   2   3      1  \n",
       "4                1              -1   2  -3      1  \n",
       "5                1               0   2   0      1  \n",
       "6                1               1   2   3      1  \n",
       "7                0               1   0   3      1  \n",
       "8                0               1   1   3      1  \n",
       "9                1               1   1   3      1  "
      ]
     },
     "execution_count": 5,
     "metadata": {},
     "output_type": "execute_result"
    }
   ],
   "source": [
    "mapping = {'P': 1,'A': 0,'N': -1,'B': -1,'NB': 1}\n",
    "\n",
    "df_new = pd.DataFrame()\n",
    "\n",
    "# Mapping\n",
    "\n",
    "for column in df_bankruptcy.columns:\n",
    "    df_new[column] = df_bankruptcy[column].map(mapping)\n",
    "    \n",
    "# Cуммарный риск и сумма (Credibility + Competitiveness)\n",
    "\n",
    "df_new['F1'] = (df_new['Industrial Risk'] + df_new['Management Risk'] + df_new['Operating Risk'])\n",
    "df_new['F2'] = (df_new['Credibility'] + df_new['Competitiveness'])\n",
    "\n",
    "# Целевой столбец\n",
    "\n",
    "columns = list(df_new.columns)\n",
    "a, b = columns.index('Class'), columns.index('F2')\n",
    "columns[b], columns[a] = columns[a], columns[b]\n",
    "df_new = df_new[columns]\n",
    "\n",
    "# Проверка\n",
    "\n",
    "df_new.head(10)"
   ]
  },
  {
   "cell_type": "code",
   "execution_count": 6,
   "id": "fb47c542",
   "metadata": {},
   "outputs": [
    {
     "data": {
      "text/plain": [
       " 1    143\n",
       "-1    107\n",
       "Name: Class, dtype: int64"
      ]
     },
     "execution_count": 6,
     "metadata": {},
     "output_type": "execute_result"
    }
   ],
   "source": [
    "# Проверка целевой\n",
    "\n",
    "df_new['Class'].value_counts()"
   ]
  },
  {
   "cell_type": "markdown",
   "id": "38d511cb",
   "metadata": {},
   "source": [
    "---"
   ]
  },
  {
   "cell_type": "markdown",
   "id": "975da01e",
   "metadata": {},
   "source": [
    "**Обучение классификатора - KNeighbors**"
   ]
  },
  {
   "cell_type": "code",
   "execution_count": 7,
   "id": "63b3fad9",
   "metadata": {},
   "outputs": [],
   "source": [
    "# Сплит данных на целевую и остальное\n",
    "\n",
    "y = df_new['Class']\n",
    "X = df_new.drop(columns = 'Class')\n",
    "\n",
    "# Сплит на train и test\n",
    "\n",
    "X_train, X_test, y_train, y_test = train_test_split(X, y, test_size = 0.2, random_state = 42)"
   ]
  },
  {
   "cell_type": "code",
   "execution_count": 8,
   "id": "24fd7ce3",
   "metadata": {},
   "outputs": [],
   "source": [
    "# Обучение\n",
    "\n",
    "model = KNeighborsClassifier(n_neighbors = 2)\n",
    "\n",
    "model.fit(X_train, y_train)\n",
    "y_predict = model.predict(X_test)"
   ]
  },
  {
   "cell_type": "code",
   "execution_count": 10,
   "id": "21d8488f",
   "metadata": {},
   "outputs": [
    {
     "name": "stdout",
     "output_type": "stream",
     "text": [
      "Classification results:\n",
      "f1: 100.00%\n",
      "roc: 100.00%\n",
      "recall: 100.00%\n",
      "precision: 100.00%\n"
     ]
    }
   ],
   "source": [
    "# Проверка качества\n",
    "\n",
    "result = evaluate_results(y_test, y_predict)\n",
    "result.append('step4')\n",
    "\n",
    "A = pd.DataFrame([result],columns = ['f1', 'roc', 'recall', 'precision','Model'])"
   ]
  },
  {
   "cell_type": "markdown",
   "id": "2d2495b8",
   "metadata": {},
   "source": [
    "---"
   ]
  },
  {
   "cell_type": "markdown",
   "id": "c98717e2",
   "metadata": {},
   "source": [
    "**Разделить ваш набор данных на два множества: P (positives) и U (unlabeled)**"
   ]
  },
  {
   "cell_type": "markdown",
   "id": "9565bb16",
   "metadata": {},
   "source": [
    "Брать нужно не все положительные (класс 1) примеры, а только лишь часть"
   ]
  },
  {
   "cell_type": "code",
   "execution_count": 11,
   "id": "7868afdc",
   "metadata": {},
   "outputs": [
    {
     "name": "stdout",
     "output_type": "stream",
     "text": [
      "Using 8/143 as positives and unlabeling the rest\n"
     ]
    }
   ],
   "source": [
    "share = .05\n",
    "\n",
    "mod_data = df_new.copy()\n",
    "\n",
    "# Get the indices of the positives samples\n",
    "P = np.where(mod_data['Class'].values == 1)[0]\n",
    "\n",
    "# Shuffle them\n",
    "np.random.shuffle(P)\n",
    "\n",
    "# Leave just share% of the positives marked\n",
    "P_len = int(np.ceil(share * len(P)))\n",
    "print(f'Using {P_len}/{len(P)} as positives and unlabeling the rest')\n",
    "P_sample = P[:P_len]"
   ]
  },
  {
   "cell_type": "code",
   "execution_count": 12,
   "id": "ba879773",
   "metadata": {},
   "outputs": [
    {
     "name": "stdout",
     "output_type": "stream",
     "text": [
      "target variable:\n",
      " -1    242\n",
      " 1      8\n",
      "Name: class_test, dtype: int64\n"
     ]
    }
   ],
   "source": [
    "# Столбец для новой целевой переменной, где у нас два класса - P (1) и U (-1)\n",
    "\n",
    "mod_data['class_test'] = -1\n",
    "mod_data.loc[P_sample,'class_test'] = 1\n",
    "\n",
    "print('target variable:\\n', mod_data['class_test'].value_counts())"
   ]
  },
  {
   "cell_type": "code",
   "execution_count": 13,
   "id": "c90a5d10",
   "metadata": {},
   "outputs": [],
   "source": [
    "X = mod_data.iloc[:,:-2].values\n",
    "\n",
    "y_labeled = mod_data.class_test.values\n",
    "y_positive = mod_data.Class.values"
   ]
  },
  {
   "cell_type": "markdown",
   "id": "e1016043",
   "metadata": {},
   "source": [
    "---"
   ]
  },
  {
   "cell_type": "markdown",
   "id": "c3f04d85",
   "metadata": {},
   "source": [
    "**Применить random negative sampling для построения классификатора в новых условиях**"
   ]
  },
  {
   "cell_type": "code",
   "execution_count": 14,
   "id": "43716b06",
   "metadata": {},
   "outputs": [
    {
     "name": "stdout",
     "output_type": "stream",
     "text": [
      "(8, 10) (8, 10)\n"
     ]
    }
   ],
   "source": [
    "mod_data = mod_data.sample(frac = 1)\n",
    "\n",
    "neg_sample = mod_data[mod_data['class_test'] == -1][:len(mod_data[mod_data['class_test'] == 1])]\n",
    "sample_test = mod_data[mod_data['class_test'] == -1][len(mod_data[mod_data['class_test'] == 1]):]\n",
    "pos_sample = mod_data[mod_data['class_test'] == 1]\n",
    "print(neg_sample.shape, pos_sample.shape)\n",
    "\n",
    "sample_train = pd.concat([neg_sample, pos_sample]).sample(frac = 1)"
   ]
  },
  {
   "cell_type": "code",
   "execution_count": 15,
   "id": "6e729b3b",
   "metadata": {},
   "outputs": [
    {
     "name": "stdout",
     "output_type": "stream",
     "text": [
      "Classification results:\n",
      "f1: 94.02%\n",
      "roc: 94.21%\n",
      "recall: 89.39%\n",
      "precision: 99.16%\n"
     ]
    }
   ],
   "source": [
    "model = KNeighborsClassifier(n_neighbors=2)\n",
    "\n",
    "model.fit(sample_train.iloc[:,:-2].values, \n",
    "          sample_train.iloc[:,-2].values)\n",
    "y_predict = model.predict(sample_test.iloc[:,:-2].values)\n",
    "\n",
    "result = evaluate_results(sample_test.iloc[:,-2].values, y_predict)\n",
    "result.append('last step')\n",
    "B = pd.DataFrame([result], columns = ['f1', 'roc', 'recall', 'precision','Model'])"
   ]
  },
  {
   "cell_type": "markdown",
   "id": "c56b92a7",
   "metadata": {},
   "source": [
    "---"
   ]
  },
  {
   "cell_type": "markdown",
   "id": "37777b2f",
   "metadata": {},
   "source": [
    "**Сравнить качество с решением из пункта 4 (построить отчет - таблицу метрик)**"
   ]
  },
  {
   "cell_type": "code",
   "execution_count": 16,
   "id": "e3ff5cc0",
   "metadata": {},
   "outputs": [
    {
     "data": {
      "text/html": [
       "<div>\n",
       "<style scoped>\n",
       "    .dataframe tbody tr th:only-of-type {\n",
       "        vertical-align: middle;\n",
       "    }\n",
       "\n",
       "    .dataframe tbody tr th {\n",
       "        vertical-align: top;\n",
       "    }\n",
       "\n",
       "    .dataframe thead th {\n",
       "        text-align: right;\n",
       "    }\n",
       "</style>\n",
       "<table border=\"1\" class=\"dataframe\">\n",
       "  <thead>\n",
       "    <tr style=\"text-align: right;\">\n",
       "      <th></th>\n",
       "      <th>Model</th>\n",
       "      <th>f1</th>\n",
       "      <th>roc</th>\n",
       "      <th>recall</th>\n",
       "      <th>precision</th>\n",
       "    </tr>\n",
       "  </thead>\n",
       "  <tbody>\n",
       "    <tr>\n",
       "      <th>0</th>\n",
       "      <td>step4</td>\n",
       "      <td>1.000000</td>\n",
       "      <td>1.000000</td>\n",
       "      <td>1.000000</td>\n",
       "      <td>1.000000</td>\n",
       "    </tr>\n",
       "    <tr>\n",
       "      <th>0</th>\n",
       "      <td>last step</td>\n",
       "      <td>0.940239</td>\n",
       "      <td>0.942068</td>\n",
       "      <td>0.893939</td>\n",
       "      <td>0.991597</td>\n",
       "    </tr>\n",
       "  </tbody>\n",
       "</table>\n",
       "</div>"
      ],
      "text/plain": [
       "       Model        f1       roc    recall  precision\n",
       "0      step4  1.000000  1.000000  1.000000   1.000000\n",
       "0  last step  0.940239  0.942068  0.893939   0.991597"
      ]
     },
     "execution_count": 16,
     "metadata": {},
     "output_type": "execute_result"
    }
   ],
   "source": [
    "AB = A.append(B)\n",
    "AB = AB[['Model','f1', 'roc', 'recall', 'precision']]\n",
    "\n",
    "# Проверка\n",
    "\n",
    "AB"
   ]
  },
  {
   "cell_type": "markdown",
   "id": "72ba89d3",
   "metadata": {},
   "source": [
    "Качество решения из пункта 4 выше из-за наибольшей выборки"
   ]
  },
  {
   "cell_type": "markdown",
   "id": "df7485df",
   "metadata": {},
   "source": [
    "---"
   ]
  },
  {
   "cell_type": "markdown",
   "id": "169ce601",
   "metadata": {},
   "source": [
    "**Поэкспериментировать с долей P на шаге 5 (как будет меняться качество модели при уменьшении/увеличении размера P)**"
   ]
  },
  {
   "cell_type": "markdown",
   "id": "e8093cad",
   "metadata": {},
   "source": [
    "**Результат:** Разница становится заметной при низких значениях выборки (от 5%) и скорее всего обусловлено сильной связью между факторами и предсказанием"
   ]
  }
 ],
 "metadata": {
  "kernelspec": {
   "display_name": "Python 3 (ipykernel)",
   "language": "python",
   "name": "python3"
  },
  "language_info": {
   "codemirror_mode": {
    "name": "ipython",
    "version": 3
   },
   "file_extension": ".py",
   "mimetype": "text/x-python",
   "name": "python",
   "nbconvert_exporter": "python",
   "pygments_lexer": "ipython3",
   "version": "3.9.7"
  }
 },
 "nbformat": 4,
 "nbformat_minor": 5
}
